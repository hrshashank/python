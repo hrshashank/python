{
 "cells": [
  {
   "cell_type": "code",
   "execution_count": 1,
   "id": "857ddd5e",
   "metadata": {},
   "outputs": [
    {
     "name": "stdout",
     "output_type": "stream",
     "text": [
      "hello world\n"
     ]
    }
   ],
   "source": [
    "print(\"hello world\")"
   ]
  },
  {
   "cell_type": "code",
   "execution_count": 1,
   "id": "62ef3ddb",
   "metadata": {},
   "outputs": [
    {
     "name": "stdout",
     "output_type": "stream",
     "text": [
      "shashank\n"
     ]
    }
   ],
   "source": [
    "i=(\"shashank\")\n",
    "print(i)"
   ]
  },
  {
   "cell_type": "code",
   "execution_count": 39,
   "id": "45d27620",
   "metadata": {},
   "outputs": [
    {
     "name": "stdout",
     "output_type": "stream",
     "text": [
      "3036890109808\n"
     ]
    }
   ],
   "source": [
    "print(id(i))"
   ]
  },
  {
   "cell_type": "code",
   "execution_count": 8,
   "id": "707ef1e0",
   "metadata": {},
   "outputs": [
    {
     "name": "stdout",
     "output_type": "stream",
     "text": [
      "<class 'str'>\n"
     ]
    }
   ],
   "source": [
    "print(type(i))"
   ]
  },
  {
   "cell_type": "code",
   "execution_count": 42,
   "id": "d08b27aa",
   "metadata": {},
   "outputs": [
    {
     "name": "stdout",
     "output_type": "stream",
     "text": [
      "3036890109808\n"
     ]
    }
   ],
   "source": [
    "print(id(i))"
   ]
  },
  {
   "cell_type": "code",
   "execution_count": 45,
   "id": "1dd9a41c",
   "metadata": {},
   "outputs": [
    {
     "name": "stdout",
     "output_type": "stream",
     "text": [
      "3036890109808 <class 'str'>\n"
     ]
    }
   ],
   "source": [
    "print(id(i),type(i))"
   ]
  },
  {
   "cell_type": "code",
   "execution_count": 13,
   "id": "080f9652",
   "metadata": {},
   "outputs": [
    {
     "name": "stdout",
     "output_type": "stream",
     "text": [
      "('shashank', 'katihally', '2,4,9')\n"
     ]
    }
   ],
   "source": [
    "s=\"shashank\",\"katihally\",\"2,4,9\"\n",
    "print(s)"
   ]
  },
  {
   "cell_type": "code",
   "execution_count": 17,
   "id": "fd86b38b",
   "metadata": {},
   "outputs": [
    {
     "name": "stdout",
     "output_type": "stream",
     "text": [
      "2094705476032\n"
     ]
    },
    {
     "data": {
      "text/plain": [
       "(None, tuple)"
      ]
     },
     "execution_count": 17,
     "metadata": {},
     "output_type": "execute_result"
    }
   ],
   "source": [
    "print(id(s)),type(s)"
   ]
  },
  {
   "cell_type": "code",
   "execution_count": 19,
   "id": "099dc9a1",
   "metadata": {},
   "outputs": [
    {
     "name": "stdout",
     "output_type": "stream",
     "text": [
      "200\n"
     ]
    }
   ],
   "source": [
    "n=200\n",
    "print(n)"
   ]
  },
  {
   "cell_type": "code",
   "execution_count": 22,
   "id": "b1eb83a1",
   "metadata": {},
   "outputs": [
    {
     "name": "stdout",
     "output_type": "stream",
     "text": [
      "2094594155152 <class 'int'>\n"
     ]
    }
   ],
   "source": [
    "print(id(n),type(n))"
   ]
  },
  {
   "cell_type": "code",
   "execution_count": 24,
   "id": "43ed9745",
   "metadata": {},
   "outputs": [
    {
     "name": "stdout",
     "output_type": "stream",
     "text": [
      "25.5\n"
     ]
    }
   ],
   "source": [
    "c=25.5\n",
    "print(c)"
   ]
  },
  {
   "cell_type": "code",
   "execution_count": 26,
   "id": "2675a28c",
   "metadata": {},
   "outputs": [
    {
     "name": "stdout",
     "output_type": "stream",
     "text": [
      "2094706090704 <class 'float'>\n"
     ]
    }
   ],
   "source": [
    "print(id(c),type(c))"
   ]
  },
  {
   "cell_type": "code",
   "execution_count": 27,
   "id": "5685b290",
   "metadata": {},
   "outputs": [
    {
     "name": "stdout",
     "output_type": "stream",
     "text": [
      "['s', 1, 2, 3]\n"
     ]
    }
   ],
   "source": [
    "d=[\"s\",1,2,3]\n",
    "print(d)"
   ]
  },
  {
   "cell_type": "code",
   "execution_count": 29,
   "id": "7ceee989",
   "metadata": {},
   "outputs": [
    {
     "name": "stdout",
     "output_type": "stream",
     "text": [
      "2094706008448 <class 'list'>\n"
     ]
    }
   ],
   "source": [
    "print(id(d),type(d))"
   ]
  },
  {
   "cell_type": "code",
   "execution_count": 36,
   "id": "3deebb5b",
   "metadata": {},
   "outputs": [
    {
     "name": "stdout",
     "output_type": "stream",
     "text": [
      "2094705211200 <class 'set'>\n"
     ]
    }
   ],
   "source": [
    "e={9}\n",
    "print(id(e),type(e))"
   ]
  },
  {
   "cell_type": "code",
   "execution_count": 33,
   "id": "fa83a71d",
   "metadata": {},
   "outputs": [
    {
     "name": "stdout",
     "output_type": "stream",
     "text": [
      "2094705210080 <class 'set'>\n"
     ]
    }
   ],
   "source": [
    "print(id(e),type(e))"
   ]
  },
  {
   "cell_type": "code",
   "execution_count": 37,
   "id": "e7946958",
   "metadata": {},
   "outputs": [
    {
     "name": "stdout",
     "output_type": "stream",
     "text": [
      "2094705210080 <class 'set'>\n"
     ]
    }
   ],
   "source": [
    "f={9}\n",
    "print(id(f),type(f))"
   ]
  },
  {
   "cell_type": "code",
   "execution_count": 48,
   "id": "d835bac4",
   "metadata": {},
   "outputs": [
    {
     "name": "stdout",
     "output_type": "stream",
     "text": [
      "2094705564592 <class 'str'>\n"
     ]
    }
   ],
   "source": [
    "g=\"shashi\"\n",
    "print(id(g),type(g))"
   ]
  },
  {
   "cell_type": "code",
   "execution_count": 49,
   "id": "33f8ae1c",
   "metadata": {},
   "outputs": [
    {
     "name": "stdout",
     "output_type": "stream",
     "text": [
      "2094705210080 <class 'dict'>\n"
     ]
    }
   ],
   "source": [
    "h={\"india\":125}\n",
    "print(id(f),type(h))"
   ]
  }
 ],
 "metadata": {
  "kernelspec": {
   "display_name": "Python 3 (ipykernel)",
   "language": "python",
   "name": "python3"
  },
  "language_info": {
   "codemirror_mode": {
    "name": "ipython",
    "version": 3
   },
   "file_extension": ".py",
   "mimetype": "text/x-python",
   "name": "python",
   "nbconvert_exporter": "python",
   "pygments_lexer": "ipython3",
   "version": "3.9.12"
  }
 },
 "nbformat": 4,
 "nbformat_minor": 5
}
