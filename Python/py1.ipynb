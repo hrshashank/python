{
 "cells": [
  {
   "cell_type": "code",
   "execution_count": 2,
   "id": "98361c7f",
   "metadata": {},
   "outputs": [
    {
     "name": "stdout",
     "output_type": "stream",
     "text": [
      "shsahank\n"
     ]
    }
   ],
   "source": [
    "print(\"shsahank\")"
   ]
  },
  {
   "cell_type": "code",
   "execution_count": 4,
   "id": "55909d39",
   "metadata": {},
   "outputs": [
    {
     "name": "stdout",
     "output_type": "stream",
     "text": [
      "kalla\n"
     ]
    }
   ],
   "source": [
    "print(\"kalla\")"
   ]
  },
  {
   "cell_type": "code",
   "execution_count": 5,
   "id": "e5962124",
   "metadata": {},
   "outputs": [
    {
     "name": "stdout",
     "output_type": "stream",
     "text": [
      "leo\n"
     ]
    }
   ],
   "source": [
    "print(\"leo\")"
   ]
  },
  {
   "cell_type": "code",
   "execution_count": null,
   "id": "48bc9122",
   "metadata": {},
   "outputs": [],
   "source": []
  }
 ],
 "metadata": {
  "kernelspec": {
   "display_name": "Python 3 (ipykernel)",
   "language": "python",
   "name": "python3"
  },
  "language_info": {
   "codemirror_mode": {
    "name": "ipython",
    "version": 3
   },
   "file_extension": ".py",
   "mimetype": "text/x-python",
   "name": "python",
   "nbconvert_exporter": "python",
   "pygments_lexer": "ipython3",
   "version": "3.9.12"
  }
 },
 "nbformat": 4,
 "nbformat_minor": 5
}
